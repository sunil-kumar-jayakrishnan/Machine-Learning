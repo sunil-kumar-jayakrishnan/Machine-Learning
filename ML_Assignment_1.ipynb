{
 "cells": [
  {
   "cell_type": "markdown",
   "id": "e69be640-2aa7-40be-bc65-26578fa55858",
   "metadata": {},
   "source": [
    "ASSIGNMENT - 1"
   ]
  },
  {
   "cell_type": "markdown",
   "id": "27ac6c65-1b9c-4d7f-a335-790df8132406",
   "metadata": {},
   "source": [
    "Question 1"
   ]
  },
  {
   "cell_type": "code",
   "execution_count": null,
   "id": "5f58a324-075a-4322-9aff-eb3eb34934d6",
   "metadata": {},
   "outputs": [],
   "source": [
    "ANS:"
   ]
  },
  {
   "cell_type": "markdown",
   "id": "5ae6cf3f-9492-46a0-863b-0fb91533eef1",
   "metadata": {},
   "source": [
    "To find : P (C sunny/ a cone of ice-cream) and P (rainy /a cup of hot coffee)\n",
    "Given the occurrence of each word is Independent\n",
    "P (a cone of ice cream) = P(a) (cone) P(of) P(ice) P(cream)\n"
   ]
  },
  {
   "cell_type": "markdown",
   "id": "e80f4b2b-0858-4219-8642-c4791ecdd9f1",
   "metadata": {},
   "source": [
    "a)\n",
    "P(Sunny/a cone of ice cream)\n",
    "Using Bayes theorem :P(A/B) = (PB/A)*P(A)/P(B)\n",
    "we can find\n",
    "P (Sunny/a cone of Ice-cream) = P (a cone of Ice-cream/sunny) * (P (sunny)/ P(a cone of Ice-cream)) Also, since the words are independent:\n",
    "we want to classify the tags with higher probability, so ignoring the denominator\n",
    "therefore: \n",
    "P (Sunny/a cone of Ice-cream) = P(a/sunny) * P (Cone/sunny) * P (of/ sunny) * P(Ice/ sunny)* P (Cream/sunny)* P (Sunny)"
   ]
  },
  {
   "cell_type": "markdown",
   "id": "fded6f9b-510b-4b24-8b64-deaf1b733147",
   "metadata": {},
   "source": [
    "b)\n",
    "Similarly: \n",
    "P (rainy/a cup of hot coffee) = P(a/rainy).P(cup/rainy).P(of/rainy).P(hot/rainy).P(coffee/rainy).P(rainy)"
   ]
  },
  {
   "cell_type": "markdown",
   "id": "67bb90c3-d4b1-43b3-bbf8-ff3d935bcc56",
   "metadata": {},
   "source": [
    "question 2"
   ]
  },
  {
   "cell_type": "code",
   "execution_count": null,
   "id": "c056e177-f341-4394-84c6-bab9cfb6d24f",
   "metadata": {},
   "outputs": [],
   "source": [
    "References\n",
    "ML references\n",
    "https://www.youtube.com/watch?v=FgaM-TzT7qk&feature=emb_imp_woyt\n",
    "\n",
    "qn.2\n",
    "For converting from Python 2 to 3\n",
    "https://docs.python.org/3/library/2to3.html#module-lib2to3\n",
    "\n",
    "Code reference for dataClassifier\n",
    "https://github.com/anthony-niklas/cs188/blob/341f854af50863f6f30e09ca32910ee3025ec5b2/p5/dataClassifier.py\n",
    "\n",
    "Code reference for naiveBayes\n",
    "https://github.com/anthony-niklas/cs188/blob/master/p5/naiveBayes.py"
   ]
  }
 ],
 "metadata": {
  "kernelspec": {
   "display_name": "Python 3 (ipykernel)",
   "language": "python",
   "name": "python3"
  },
  "language_info": {
   "codemirror_mode": {
    "name": "ipython",
    "version": 3
   },
   "file_extension": ".py",
   "mimetype": "text/x-python",
   "name": "python",
   "nbconvert_exporter": "python",
   "pygments_lexer": "ipython3",
   "version": "3.9.12"
  }
 },
 "nbformat": 4,
 "nbformat_minor": 5
}
